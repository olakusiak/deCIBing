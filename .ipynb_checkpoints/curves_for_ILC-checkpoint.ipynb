{
 "cells": [
  {
   "cell_type": "code",
   "execution_count": 1,
   "id": "bc5c5294",
   "metadata": {},
   "outputs": [
    {
     "data": {
      "text/plain": [
       "<contextlib._GeneratorContextManager at 0x7f8498020a90>"
      ]
     },
     "execution_count": 1,
     "metadata": {},
     "output_type": "execute_result"
    }
   ],
   "source": [
    "import matplotlib.pyplot as plt\n",
    "import numpy as np\n",
    "from classy_sz import Class\n",
    "import time \n",
    "import sys \n",
    "sys.path.append('/Users/aleksandra/Desktop/Research/ILC_params/')\n",
    "\n",
    "from HOD import *\n",
    "from ilc_params import *\n",
    "\n",
    "font = {'size'   : 16, 'family':'STIXGeneral'}\n",
    "plt.rcParams.update({\n",
    "     \"text.usetex\": True,\n",
    "     \"font.family\": \"serif\",\n",
    "     \"font.sans-serif\": ['Computer Modern']})\n",
    "plt.rc_context({'axes.autolimit_mode': 'round_numbers'})"
   ]
  },
  {
   "cell_type": "markdown",
   "id": "81ff8fee",
   "metadata": {},
   "source": [
    "# To-do:\n",
    "parameters \n",
    "\n",
    "-lens mag terms \n",
    "\n",
    "- g1g2 terms\n",
    "- flux cut "
   ]
  },
  {
   "cell_type": "code",
   "execution_count": 2,
   "id": "78127f6f",
   "metadata": {},
   "outputs": [],
   "source": [
    "color = \"blue\" "
   ]
  },
  {
   "cell_type": "code",
   "execution_count": 3,
   "id": "398e5ec4",
   "metadata": {},
   "outputs": [],
   "source": [
    "nu_list = 100,217,353\n",
    "nu_list_str = '100,217,353'\n",
    "\n",
    "path_save = \"/Users/aleksandra/software/ILC_class-sz_curves_data/websky_mean_mbb?_HOD_12-18/\"\n",
    "path_to_files = '/Users/aleksandra/software/class_sz/sz_auxiliary_files/'\n",
    "\n",
    "save_to_file = \"no\""
   ]
  },
  {
   "cell_type": "code",
   "execution_count": 4,
   "id": "021fd7e3",
   "metadata": {},
   "outputs": [
    {
     "name": "stdout",
     "output_type": "stream",
     "text": [
      "Flux cuts:  [400, 225, 315]\n"
     ]
    }
   ],
   "source": [
    "cib_flux = {}\n",
    "cib_flux['100'] = 400\n",
    "cib_flux['143'] = 350\n",
    "cib_flux['217'] = 225\n",
    "cib_flux['353'] = 315\n",
    "cib_flux['545'] = 350\n",
    "cib_flux['857'] = 710\n",
    "cib_flux['3000'] = 1000\n",
    "\n",
    "\n",
    "# flux cut, Table 1 in https://arxiv.org/pdf/1309.0382.pdf\n",
    "cib_flux_list = []\n",
    "for i,nu in enumerate(nu_list):\n",
    "    cib_flux_list.append(cib_flux[str(nu)])\n",
    "print(\"Flux cuts: \", cib_flux_list)"
   ]
  },
  {
   "cell_type": "code",
   "execution_count": 5,
   "id": "f71e6bcb",
   "metadata": {},
   "outputs": [
    {
     "data": {
      "text/plain": [
       "'blue'"
      ]
     },
     "execution_count": 5,
     "metadata": {},
     "output_type": "execute_result"
    }
   ],
   "source": [
    "if color==\"blue\":\n",
    "    hod_pdict = blue_pdict\n",
    "if color==\"green\":\n",
    "    hod_pdict = green_pdict\n",
    "if color==\"red\":\n",
    "    hod_pdict = red_pdict  \n",
    "    \n",
    "hod_pdict['galaxy_sample_id']"
   ]
  },
  {
   "cell_type": "code",
   "execution_count": 6,
   "id": "61c8588e",
   "metadata": {},
   "outputs": [
    {
     "data": {
      "text/plain": [
       "<function __main__.plotfunction(linear=False, **kwargs)>"
      ]
     },
     "execution_count": 6,
     "metadata": {},
     "output_type": "execute_result"
    }
   ],
   "source": [
    "TCMB = 2.726 #Kelvin\n",
    "TCMB_uK = 2.726e6 #micro-Kelvin\n",
    "T_cmb = 2.726 #Kelvin\n",
    "_h_P_=6.62606896e-34\n",
    "_k_B_=1.3806504e-23\n",
    "\n",
    "\n",
    "def plotfunction(linear=False, **kwargs):   \n",
    "    plt.figure(figsize=(8,6))\n",
    "    plt.title(r\"\", fontsize=30,  **kwargs )\n",
    "    plt.xlabel(r\"$\\ell$\", size=30)\n",
    "    plt.yticks(fontsize=20)\n",
    "    plt.xticks(fontsize=20)  \n",
    "    plt.grid(which='both',alpha=0.2)\n",
    "    plt.yscale(\"log\")\n",
    "    plt.xscale(\"log\")\n",
    "    if linear == True:\n",
    "        plt.yscale(\"linear\")\n",
    "        plt.xscale(\"linear\")\n",
    "         \n",
    "plotfunction"
   ]
  },
  {
   "cell_type": "markdown",
   "id": "8fed2b4e",
   "metadata": {},
   "source": [
    "# Frequency-independent"
   ]
  },
  {
   "cell_type": "markdown",
   "id": "c3edc408",
   "metadata": {},
   "source": [
    "## CMB"
   ]
  },
  {
   "cell_type": "code",
   "execution_count": 7,
   "id": "95c830c3",
   "metadata": {},
   "outputs": [],
   "source": [
    "common_settings_cmb = {# wich output? ClTT, transfer functions delta_i and theta_i\n",
    "                   'output':'tCl,pCl,lCl',\n",
    "                   'lensing':'yes',\n",
    "                   # LambdaCDM parameters\n",
    "                   'h':0.67556,\n",
    "                   'omega_b':0.022032,\n",
    "                   'omega_cdm':0.12038,\n",
    "                   'A_s':2.215e-9,\n",
    "                   'n_s':0.9619,\n",
    "                   'tau_reio':0.0925,\n",
    "                   # Take fixed value for primordial Helium (instead of automatic BBN adjustment)\n",
    "                   'YHe':0.246,\n",
    "                   # other output and precision parameters\n",
    "                   'l_max_scalars':10000, \n",
    "\n",
    "}"
   ]
  },
  {
   "cell_type": "code",
   "execution_count": 8,
   "id": "c09d66cf",
   "metadata": {},
   "outputs": [],
   "source": [
    "M = Class()\n",
    "M.set(common_settings_cmb)\n",
    "M.compute()\n",
    "cl_tot = M.raw_cl(10000)\n",
    "cl_lensed = M.lensed_cl(10000)\n",
    "ell = cl_tot['ell']\n",
    "M.struct_cleanup()  # clean output\n",
    "M.empty()           # clean input\n",
    "\n",
    "factor = TCMB**2 * ell*(ell+1.)/2./np.pi"
   ]
  },
  {
   "cell_type": "code",
   "execution_count": 9,
   "id": "674a2115",
   "metadata": {},
   "outputs": [],
   "source": [
    "# noise \n",
    "ell_noise, cl_noise = np.loadtxt(\"/Users/aleksandra/Desktop/noise_curves_from_kSZ2X/nl_advact_20uK_1p5arcmin_uK2_170422.txt\").T"
   ]
  },
  {
   "cell_type": "markdown",
   "id": "69ed2b86",
   "metadata": {},
   "source": [
    "## kSZ"
   ]
  },
  {
   "cell_type": "code",
   "execution_count": 10,
   "id": "5248910e",
   "metadata": {},
   "outputs": [],
   "source": [
    "# battaglia 12 kSZ theory computation. Patchy is before reionization, the other after reionization; should add these two\n",
    "CellkSZhomog = np.loadtxt('/Users/aleksandra/Desktop/Research/ACTxDES/kSZ_filter/kSZ_theory_data/FBN_kSZ_PS.d.txt')\n",
    "CellkSZpatchy = np.loadtxt('/Users/aleksandra/Desktop/Research/ACTxDES/kSZ_filter/kSZ_theory_data/FBN_kSZ_PS_patchy.d.txt')\n",
    "\n",
    "#get rid of ell*(ell+1)/2pi factors  \n",
    "ell_theory_battaglia = CellkSZhomog[:,0]\n",
    "dl_kSZ_theory_battaglia = CellkSZhomog[:,1] + CellkSZpatchy[:,1]\n",
    "cl_kSZ_theory_battaglia = (CellkSZhomog[:,1] + CellkSZpatchy[:,1]) * 2.0*np.pi/(ell_theory_battaglia)/(ell_theory_battaglia+1.0)\n"
   ]
  },
  {
   "cell_type": "code",
   "execution_count": 11,
   "id": "bc55063a",
   "metadata": {},
   "outputs": [
    {
     "data": {
      "text/plain": [
       "<matplotlib.legend.Legend at 0x7f84b8785400>"
      ]
     },
     "execution_count": 11,
     "metadata": {},
     "output_type": "execute_result"
    },
    {
     "data": {
      "image/png": "[encoded data removed]",
      "text/plain": [
       "<Figure size 800x600 with 1 Axes>"
      ]
     },
     "metadata": {},
     "output_type": "display_data"
    }
   ],
   "source": [
    "plotfunction()\n",
    "plt.plot(ell_theory_battaglia , dl_kSZ_theory_battaglia, label = \"kSZ\")\n",
    "plt.plot(ell_noise , ell_noise *(ell_noise +1)*cl_noise/2/np.pi, label = \"noise\")\n",
    "plt.legend(fontsize=20)"
   ]
  },
  {
   "cell_type": "code",
   "execution_count": 12,
   "id": "e92bb129",
   "metadata": {},
   "outputs": [
    {
     "data": {
      "text/plain": [
       "<matplotlib.legend.Legend at 0x7f84cb0ffe50>"
      ]
     },
     "execution_count": 12,
     "metadata": {},
     "output_type": "execute_result"
    },
    {
     "data": {
      "image/png": "[encoded data removed]",
      "text/plain": [
       "<Figure size 800x600 with 1 Axes>"
      ]
     },
     "metadata": {},
     "output_type": "display_data"
    }
   ],
   "source": [
    "plotfunction()\n",
    "\n",
    "plt.plot(ell_theory_battaglia, dl_kSZ_theory_battaglia,\"--\", label = \"Battaglia kSZ\")\n",
    "plt.plot(ell, 1.e12*factor*cl_tot['tt'],label='total TT')\n",
    "plt.plot(ell, 1.e12*factor*cl_lensed['tt'],label='lensed TT')\n",
    "plt.plot(ell_noise , ell_noise *(ell_noise +1)*cl_noise/2/np.pi, color= \"black\", label=\"noise\")\n",
    "\n",
    "plt.xlim(10,1e4)\n",
    "plt.ylim(1e-1,1e4)\n",
    "plt.ylabel(r'$D_\\ell$  [$\\mu K^2$]',fontsize=22)\n",
    "plt.legend(fontsize=20)"
   ]
  },
  {
   "cell_type": "markdown",
   "id": "e9289e69",
   "metadata": {},
   "source": [
    "# Frequency-dependent"
   ]
  },
  {
   "cell_type": "code",
   "execution_count": 13,
   "id": "d2bd0cd5",
   "metadata": {},
   "outputs": [],
   "source": [
    "def convert_Jysr_to_uK(nu_in_GHz):\n",
    "    # Appendix A of Fionas paper https://arxiv.org/pdf/2010.16405.pdf\n",
    "    x = nu_in_GHz/56.233\n",
    "    dB_MJy = 968*np.exp(x)*(nu_in_GHz/100)**4/(np.exp(x)-1)**2\n",
    "    return dB_MJy\n",
    "\n",
    "\n",
    "def tSZ_spectral_funct_at_nu_in_GHz(nu_in_GHz):\n",
    "        T_cmb = 2.726\n",
    "        frequency_in_Hz = nu_in_GHz*1e9\n",
    "        Tcmb_gNU = T_cmb*((_h_P_*frequency_in_Hz/(_k_B_*T_cmb))*(1./np.tanh((_h_P_*frequency_in_Hz/(_k_B_*T_cmb))/2.))-4.)\n",
    "        return Tcmb_gNU\n"
   ]
  },
  {
   "cell_type": "code",
   "execution_count": null,
   "id": "6365c48c",
   "metadata": {},
   "outputs": [],
   "source": []
  },
  {
   "cell_type": "code",
   "execution_count": 14,
   "id": "39e54e44",
   "metadata": {},
   "outputs": [],
   "source": [
    "#HOD dictonaries \n",
    "blue_HOD = blue_pdict\n",
    "green_HOD = green_pdict\n",
    "red_HOD = red_pdict"
   ]
  },
  {
   "cell_type": "code",
   "execution_count": 15,
   "id": "e136a672",
   "metadata": {},
   "outputs": [],
   "source": [
    "# M = Class()\n",
    "# M.set(blue_HOD)\n",
    "# M.set(common_settings)\n",
    "# M.set(p18_pdict)\n",
    "\n",
    "# M.set({\n",
    "#         'output':'gal_gal_1h,gal_gal_2h,gal1_gal2_1h,gal1_gal2_2h,gal_lensmag_1h,gal_lensmag_2h, lensmag_lensmag_1h, lensmag_lensmag_2h,gal1_lensmag2_1h,gal1_lensmag2_2h,gal2_lensmag1_1h,gal2_lensmag1_2h,lensmag1_lensmag2_1h, lensmag1_lensmag2_2h',\n",
    "#         'class_sz_verbose':0,\n",
    "        \n",
    "#         #galaxy 1 \n",
    "#         'galaxy_sample1': blue_HOD['galaxy_sample'],\n",
    "#         'galaxy_sample_id1': blue_HOD['galaxy_sample_id'],\n",
    "#         'UNWISE_dndz_file1': blue_HOD['UNWISE_dndz_file'],\n",
    "    \n",
    "#         'sigma_log10M_HOD_gal1': blue_HOD['sigma_log10M_HOD'],\n",
    "#         'alpha_s_HOD_gal1': blue_HOD['alpha_s_HOD'],\n",
    "#         'M1_prime_HOD_gal1': blue_HOD['M1_prime_HOD'],\n",
    "#         'M_min_HOD_gal1': blue_HOD['M_min_HOD'],\n",
    "#         'x_out_truncated_nfw_profile_satellite_galaxies_gal1': blue_HOD['x_out_truncated_nfw_profile_satellite_galaxies'],\n",
    "        \n",
    "#         #galaxy 2 \n",
    "#         'galaxy_sample2': green_HOD['galaxy_sample'],\n",
    "#         'galaxy_sample_id2': green_HOD['galaxy_sample_id'],\n",
    "#         'UNWISE_dndz_file2': green_HOD['UNWISE_dndz_file'],\n",
    "    \n",
    "#         'sigma_log10M_HOD_gal2': green_HOD['sigma_log10M_HOD'],\n",
    "#         'alpha_s_HOD_gal2': green_HOD['alpha_s_HOD'],\n",
    "#         'M1_prime_HOD_gal2': green_HOD['M1_prime_HOD'],\n",
    "#         'M_min_HOD_gal2': green_HOD['M_min_HOD'],\n",
    "#         'x_out_truncated_nfw_profile_satellite_galaxies_gal2': green_HOD['x_out_truncated_nfw_profile_satellite_galaxies'],\n",
    "  \n",
    "#         })        \n",
    "# M.compute()\n",
    "\n",
    "# blue_gg = M.cl_gg()\n",
    "# blue_gm =M.cl_gm()\n",
    "# blue_mm =M.cl_mm()\n",
    "\n",
    "# blue_x_green_gg = M.cl_g1g2()\n",
    "# blue_x_green_m1m2 = M.cl_m1m2()\n",
    "# blue_x_green_g1m2 = M.cl_g1m2()\n",
    "# blue_x_green_g2m1 = M.cl_g2m1()"
   ]
  },
  {
   "cell_type": "code",
   "execution_count": 16,
   "id": "e07be782",
   "metadata": {
    "scrolled": true
   },
   "outputs": [],
   "source": [
    "M = Class()\n",
    "M.set(blue_pdict)\n",
    "M.set(common_settings)\n",
    "M.set(p18_pdict)\n",
    "# M.set(websky_tsz_pdict)\n",
    "# M.set(websky_cib_pdict)\n",
    " \n",
    "\n",
    "# M.set({\n",
    "#         'output':'cib_cib_1h,cib_cib_2h,tSZ_1h,tSZ_2h,gal_gal_1h,gal_gal_2h,tSZ_cib_1h,tSZ_cib_2h,gal_cib_1h,gal_cib_2h,tSZ_gal_1h,tSZ_gal_2h,tSZ_lensmag_1h,tSZ_lensmag_2h,gal_lensmag_1h,gal_lensmag_2h,lensmag_lensmag_1h,lensmag_lensmag_2h'\n",
    "#         })  #       \n",
    "M.set({\n",
    "        'output':'gal_gal_1h,gal_gal_2h,gal_lensmag_1h,gal_lensmag_2h, lensmag_lensmag_1h, lensmag_lensmag_2h,gal1_lensmag2_1h,gal1_lensmag2_2h,gal2_lensmag1_1h,gal2_lensmag1_2h',\n",
    "        'class_sz_verbose':0, \n",
    "    })\n",
    "# M.set({\n",
    "#         'cib_frequency_list_num' : len(nu_list),\n",
    "#         'cib_frequency_list_in_GHz' : nu_list_str,  \n",
    "       \n",
    "#         'cib_Snu_cutoff_list [mJy]': str(list(cib_flux_list))[1:-1],\n",
    "#         'has_cib_flux_cut': 1\n",
    "#       })\n",
    "M.compute()\n",
    "\n"
   ]
  },
  {
   "cell_type": "code",
   "execution_count": 17,
   "id": "d0275a2e",
   "metadata": {},
   "outputs": [],
   "source": [
    "# tf = time.perf_counter()\n",
    "# print(f\"computed in {tf - ti:0.4f} seconds\")"
   ]
  },
  {
   "cell_type": "code",
   "execution_count": 18,
   "id": "d856163a",
   "metadata": {},
   "outputs": [],
   "source": [
    "# #auto\n",
    "# cl_gg = M.cl_gg() #gg\n",
    "# cl_cib_cib = M.cl_cib_cib() #cib \n",
    "# cl_sz = M.cl_sz() #yy\n",
    "# #cross\n",
    "# cl_tsz_cib = M.cl_tSZ_cib()\n",
    "# cl_cib_g = M.cl_gal_cib()\n",
    "# cl_tszg = M.cl_yg()\n",
    "# # lensmag terms\n",
    "# cl_mumu = M.cl_mm()\n",
    "# cl_mu_tSZ = M.cl_ym()\n",
    "# cl_cib_mu = M.cl_cib_mu()"
   ]
  },
  {
   "cell_type": "code",
   "execution_count": 19,
   "id": "3030a09f",
   "metadata": {},
   "outputs": [
    {
     "ename": "NameError",
     "evalue": "name 'cl_cib_mu' is not defined",
     "output_type": "error",
     "traceback": [
      "\u001b[0;31m---------------------------------------------------------------------------\u001b[0m",
      "\u001b[0;31mNameError\u001b[0m                                 Traceback (most recent call last)",
      "\u001b[0;32m/var/folders/nb/92bp6wq92qg_000bg2y5tcm00000gn/T/ipykernel_8158/994595593.py\u001b[0m in \u001b[0;36m<cell line: 1>\u001b[0;34m()\u001b[0m\n\u001b[0;32m----> 1\u001b[0;31m \u001b[0mcl_cib_mu\u001b[0m\u001b[0;34m\u001b[0m\u001b[0;34m\u001b[0m\u001b[0m\n\u001b[0m",
      "\u001b[0;31mNameError\u001b[0m: name 'cl_cib_mu' is not defined"
     ]
    }
   ],
   "source": [
    "cl_cib_mu"
   ]
  },
  {
   "cell_type": "markdown",
   "id": "9cebac72",
   "metadata": {},
   "source": [
    "## tSZ"
   ]
  },
  {
   "cell_type": "code",
   "execution_count": null,
   "id": "25a9d3a1",
   "metadata": {},
   "outputs": [],
   "source": [
    "plotfunction()\n",
    "plt.title(\"$|$ tSZ $\\\\times$ tSZ $|$\", fontsize=30)\n",
    "plt.ylabel(r\"$ \\ell (\\ell+1) C_l^{tSZ \\times tSZ} / 2 \\pi \\,\\,\\, [\\mu K^2]$\", size=30)\n",
    "\n",
    "\n",
    "# yy = np.asarray(cl_sz['1h'])+np.asarray(cl_sz['2h'])\n",
    "# plt.plot(cl_sz['ell'],yy,\":\", label=r'yy')\n",
    "\n",
    "# for (i,nu) in enumerate(nu_list):\n",
    "#     plt.plot(cl_sz['ell'],yy*abs(tSZ_spectral_funct_at_nu_in_GHz(nu)**2),label=r'%.1i GHz '%(nu))\n",
    "plt.legend(loc='right',bbox_to_anchor=(1.4, 0.5), fontsize=20)"
   ]
  },
  {
   "cell_type": "markdown",
   "id": "fd57f545",
   "metadata": {},
   "source": [
    "## CIB "
   ]
  },
  {
   "cell_type": "code",
   "execution_count": null,
   "id": "c37381d3",
   "metadata": {},
   "outputs": [],
   "source": [
    "plotfunction()\n",
    "plt.ylabel(r\"$\\ell (\\ell+1) C_l^{\\nu \\nu} / 2 \\pi \\,\\,\\, [Jy^2/sr]$\", size=30)\n",
    "plt.title(r'CIB $\\times$ CIB', fontsize=30)\n",
    "\n",
    "\n",
    "for (i,nu) in enumerate(nu_list):\n",
    "    #CIB\n",
    "    dls_cib_1h = np.asarray(cl_cib_cib[str(nu_list[i])+'x'+str(nu_list[i])]['1h'])#/cls_to_dls\n",
    "    dls_cib_2h = np.asarray(cl_cib_cib[str(nu_list[i])+'x'+str(nu_list[i])]['2h'])#/cls_to_dls\n",
    "\n",
    "    plt.plot(cl_cib_cib[str(nu)+'x'+str(nu)]['ell'], dls_cib_1h + dls_cib_2h, label=r' %.1i'%(nu))\n",
    "    plt.plot(cl_cib_cib[str(nu)+'x'+str(nu)]['ell'], dls_cib_1h,\"--\",  label=r' %.1i, 1h'%(nu))\n",
    "    plt.plot(cl_cib_cib[str(nu)+'x'+str(nu)]['ell'], dls_cib_2h, \":\", label=r' %.1i, 2h'%(nu))\n",
    "\n",
    "plt.legend(loc='right',  fontsize=20)    \n",
    "  "
   ]
  },
  {
   "cell_type": "code",
   "execution_count": null,
   "id": "4dd44e71",
   "metadata": {},
   "outputs": [],
   "source": [
    "plotfunction()\n",
    "plt.ylabel(r\"$ \\ell (\\ell+1) C_l^{\\nu \\nu} / 2 \\pi \\,\\,\\, [\\mu K^2]$\", size=30)\n",
    "plt.title(r'CIB $\\times$ CIB', fontsize=30)\n",
    "\n",
    "plt.xlim(100, 10000)\n",
    "\n",
    "ell_cib = np.asarray(cl_cib_cib[str(nu_list[0])+'x'+str(nu_list[0])]['ell'])\n",
    "cls_to_dls = ell_cib*(ell_cib+1.)/2./np.pi\n",
    "\n",
    "for (i,nu) in enumerate(nu_list):\n",
    "    #CIB\n",
    "    dls_cib_1h = np.asarray(cl_cib_cib[str(nu_list[i])+'x'+str(nu_list[i])]['1h'])/cls_to_dls\n",
    "    dls_cib_2h = np.asarray(cl_cib_cib[str(nu_list[i])+'x'+str(nu_list[i])]['2h'])/cls_to_dls\n",
    "    plt.plot(cl_cib_cib[str(nu)+'x'+str(nu)]['ell'], cls_to_dls*(dls_cib_1h + dls_cib_2h)/ convert_Jysr_to_uK(nu) /convert_Jysr_to_uK(nu), label=r'%.1i GHz'%(nu))\n",
    "\n",
    "plt.legend(loc='right',  fontsize=20)    \n",
    "  "
   ]
  },
  {
   "cell_type": "markdown",
   "id": "4520de9c",
   "metadata": {},
   "source": [
    "not reproducing Fig 3 in Fiona/Mat but params different ?\n"
   ]
  },
  {
   "cell_type": "markdown",
   "id": "40e34b25",
   "metadata": {},
   "source": [
    "## tSZ x CIB"
   ]
  },
  {
   "cell_type": "code",
   "execution_count": null,
   "id": "46fb4d9e",
   "metadata": {
    "scrolled": false
   },
   "outputs": [],
   "source": [
    "ell_tsz_cib = np.asarray(cl_tsz_cib[str(nu_list[0])]['ell'])\n",
    "cls_to_dls = ell_tsz_cib*(ell_tsz_cib+1.)/2./np.pi\n",
    "\n",
    "for (i,nu) in enumerate(nu_list):\n",
    "    plotfunction()\n",
    "    plt.xlabel(r\"$\\ell$\", size=30)\n",
    "    plt.ylabel(r\"$ C_l^{\\rm{y \\times \\nu}} \\,\\,\\, [Jy/sr]$\", size=30)\n",
    "    plt.title(r'y $\\times$ CIB %.1i GHz (assume CIB comes in Jy/sr)'%(nu), fontsize=30)\n",
    "\n",
    "    spec = abs(tSZ_spectral_funct_at_nu_in_GHz(nu))\n",
    "    \n",
    "    #cl_yCIB = cl_yCIB_at_nu_in_GHz(cl_tsz_cib[str(nu)], nu)\n",
    "    plt.plot(ell_tsz_cib, (np.asarray(cl_tsz_cib[str(nu)]['1h']))/cls_to_dls,'--',color =\"blue\")#, label=r'1h,  %.1i'%(nu))\n",
    "    plt.plot(ell_tsz_cib, (np.asarray(cl_tsz_cib[str(nu)]['2h']))/cls_to_dls,'--',color=\"green\")#, label=r'2h,  %.1i'%(nu))\n",
    "    plt.plot(ell_tsz_cib, (np.asarray(cl_tsz_cib[str(nu)]['1h'])+np.asarray(cl_tsz_cib[str(nu)]['2h']))/cls_to_dls,'-', color=\"red\")#,label=r'$\\nu$ = %.1i'%(nu))\n",
    "\n",
    "    plt.legend(loc='right',  fontsize=12)    \n",
    "  "
   ]
  },
  {
   "cell_type": "code",
   "execution_count": null,
   "id": "cb27f96b",
   "metadata": {},
   "outputs": [],
   "source": [
    "plotfunction()\n",
    "plt.ylabel(r\"$ C_l^{\\rm{y \\times \\nu}} \\,\\,\\, [Jy/sr]$\", size=30)\n",
    "plt.title(r'y $\\times$ CIB', fontsize=30)\n",
    "\n",
    "\n",
    "ell_tsz_cib = np.asarray(cl_tsz_cib[str(nu_list[0])]['ell'])\n",
    "cls_to_dls = ell_tsz_cib*(ell_tsz_cib+1.)/2./np.pi\n",
    "\n",
    "for (i,nu) in enumerate(nu_list):\n",
    "    plt.plot(ell_tsz_cib, (np.asarray(cl_tsz_cib[str(nu)]['1h'])+np.asarray(cl_tsz_cib[str(nu)]['2h']))/cls_to_dls,'-',label=r' %.1i GHz'%(nu))\n",
    "\n",
    "plt.legend(loc='right',  fontsize=20)    \n",
    "  "
   ]
  },
  {
   "cell_type": "code",
   "execution_count": null,
   "id": "ed5c6fc6",
   "metadata": {},
   "outputs": [],
   "source": []
  },
  {
   "cell_type": "code",
   "execution_count": null,
   "id": "19962bdb",
   "metadata": {},
   "outputs": [],
   "source": [
    "plotfunction()\n",
    "plt.ylabel(r\"$\\ell (\\ell+1) C_l^{\\rm{y \\times \\nu}} / 2 \\pi  \\ \\ [Jy/sr]$\", fontsize=30)\n",
    "plt.title(r'y $\\times$ CIB', fontsize=30)\n",
    "\n",
    "ell_tsz_cib = np.asarray(cl_tsz_cib[str(nu_list[0])]['ell'])\n",
    "cls_to_dls = ell_tsz_cib*(ell_tsz_cib+1.)/2./np.pi\n",
    "\n",
    "for (i,nu) in enumerate(nu_list):\n",
    "    plt.plot(ell_tsz_cib, (np.asarray(cl_tsz_cib[str(nu)]['1h'])+np.asarray(cl_tsz_cib[str(nu)]['2h'])),'-',label=r'$\\nu$ = %.1i'%(nu))\n",
    "\n",
    "plt.legend(loc='right',  fontsize=20)    \n",
    "  \n"
   ]
  },
  {
   "cell_type": "markdown",
   "id": "972517db",
   "metadata": {},
   "source": [
    "## tSZ x g "
   ]
  },
  {
   "cell_type": "code",
   "execution_count": null,
   "id": "8dd37270",
   "metadata": {},
   "outputs": [],
   "source": [
    "plotfunction()\n",
    "plt.ylabel(r\"$\\ell (\\ell+1) C_l^{\\rm{tSZ \\times g}} / 2 \\pi \\,\\,\\, [\\mu K]$\", fontsize=30)\n",
    "plt.title(r'tSZ $\\times$ g', fontsize=30)\n",
    "\n",
    "for (i,nu) in enumerate(nu_list):\n",
    "    yg = np.asarray(cl_tszg['1h'])+np.asarray(cl_tszg['2h'])\n",
    "    plt.plot(cl_tszg['ell'],yg*tSZ_spectral_funct_at_nu_in_GHz(nu),'-',label=r' %.1i GHz'%(nu))\n",
    "plt.legend(loc='right',bbox_to_anchor=(1.4, 0.5), fontsize=20)"
   ]
  },
  {
   "cell_type": "markdown",
   "id": "0ec3ad57",
   "metadata": {},
   "source": [
    "## CIB x g "
   ]
  },
  {
   "cell_type": "code",
   "execution_count": null,
   "id": "8a675822",
   "metadata": {},
   "outputs": [],
   "source": [
    "plotfunction()\n",
    "plt.ylabel(r\"$\\ell (\\ell+1) C_l^{\\rm{CIB}xg} / 2 \\pi \\ \\ [Jy/sr]$\", fontsize=30)\n",
    "plt.title(r'CIB $\\times$ g [Jy/sr]', fontsize=30)\n",
    "\n",
    "\n",
    "for (i,nu) in enumerate(nu_list):\n",
    "    cl_cib_g_1h = np.asarray(cl_cib_g[str(nu_list[i])]['1h'])\n",
    "    cl_cib_g_2h = np.asarray(cl_cib_g[str(nu_list[i])]['2h'])\n",
    "    \n",
    "    plt.plot(cl_cib_g[str(nu_list[1])]['ell'], cl_cib_g_1h , \":\", label=r'%.1i GHz, 1h'%(nu))\n",
    "    plt.plot(cl_cib_g[str(nu_list[1])]['ell'], cl_cib_g_2h , \"--\", label=r'%.1i GHz, 2h'%(nu))\n",
    "    plt.plot(cl_cib_g[str(nu_list[1])]['ell'], cl_cib_g_2h +cl_cib_g_1h , \"-\", label=r'%.1i GHz'%(nu))\n",
    "\n",
    "    plt.legend(loc='right',bbox_to_anchor=(1.4, 0.5), fontsize=20)\n"
   ]
  },
  {
   "cell_type": "code",
   "execution_count": null,
   "id": "2a3fc592",
   "metadata": {},
   "outputs": [],
   "source": [
    "plotfunction()\n",
    "plt.ylabel(r\"$\\ell (\\ell+1) C_l^{\\rm{CIB}xg} / 2 \\pi \\ [\\mu K] $\", fontsize=30)\n",
    "plt.title(r'CIB $\\times$ g', fontsize=30)\n",
    "\n",
    "\n",
    "for (i,nu) in enumerate(nu_list):\n",
    "    \n",
    "    cl_cib_g_1h = np.asarray(cl_cib_g[str(nu_list[i])]['1h'])\n",
    "    cl_cib_g_2h = np.asarray(cl_cib_g[str(nu_list[i])]['2h'])\n",
    "    CIBg_uK = (cl_cib_g_1h + cl_cib_g_2h)/convert_Jysr_to_uK(nu)  \n",
    "    plt.loglog(cl_cib_g[str(nu_list[1])]['ell'], CIBg_uK , label=r'%.1i GHz'%(nu))\n",
    "\n",
    "plt.legend(loc='right',bbox_to_anchor=(1.4, 0.5), fontsize=20)"
   ]
  },
  {
   "cell_type": "markdown",
   "id": "57f72eef",
   "metadata": {},
   "source": [
    "##  gg"
   ]
  },
  {
   "cell_type": "code",
   "execution_count": null,
   "id": "eee180a9",
   "metadata": {},
   "outputs": [],
   "source": [
    "cl_gg_ell = np.asarray(cl_gg['ell'])\n",
    "cl_gg_1h = np.asarray(cl_gg['1h'])\n",
    "cl_gg_2h = np.asarray(cl_gg['2h'])\n",
    "\n",
    "cl_to_dl_gg = cl_gg_ell*(cl_gg_ell+1)/2/np.pi"
   ]
  },
  {
   "cell_type": "code",
   "execution_count": null,
   "id": "6a7ade6b",
   "metadata": {},
   "outputs": [],
   "source": [
    "cl_gg_1h+cl_gg_2h"
   ]
  },
  {
   "cell_type": "code",
   "execution_count": null,
   "id": "f4e8b7bb",
   "metadata": {},
   "outputs": [],
   "source": [
    "plt.figure(figsize=(12,8))\n",
    "plt.xlabel(r\"$\\ell$\", fontsize=30)\n",
    "plt.ylabel(r\"$\\ell (\\ell+1) C_l^{gg} / 2 \\pi $\", fontsize=30)\n",
    "plt.title('gg', fontsize=30)\n",
    "plt.yticks(fontsize=20)\n",
    "plt.xticks(fontsize=20)\n",
    "plt.grid(which='both',alpha=0.2)\n",
    "plt.yscale(\"log\")\n",
    "#plt.xscale(\"log\")\n",
    "\n",
    "for (i,nu) in enumerate(nu_list): \n",
    "    plt.plot(cl_gg_ell, (cl_gg_1h+cl_gg_2h) , label=r'%.1i GHz'%(nu))\n",
    "    \n",
    "\n",
    "plt.legend(loc='right',bbox_to_anchor=(1.4, 0.5), fontsize=20)"
   ]
  },
  {
   "cell_type": "markdown",
   "id": "b4293f6d",
   "metadata": {},
   "source": [
    "### Alex data"
   ]
  },
  {
   "cell_type": "code",
   "execution_count": null,
   "id": "58246b94",
   "metadata": {},
   "outputs": [],
   "source": [
    "path_data = \"/Users/aleksandra/Desktop/HOD_unWISE/data_gg_kg/data_paper_HOD/\"\n",
    "path_cov = \"/Users/aleksandra/Desktop/HOD_unWISE/data_gg_kg/data_paper_HOD/covariances/\"\n",
    "\n",
    "bpwf_gg = np.loadtxt(path_data+\"cl_highL6000_sz_mask_C1+gaussian_filter20_windows_auto.txt\")\n",
    "\n",
    "if color == 'blue':\n",
    "    alex = np.loadtxt(path_data+'Bandpowers_Auto_Sample1.dat')\n",
    "    cov =  np.loadtxt(path_cov +\"Covariance_1111_blue.txt\")\n",
    "    A_shot_noise  = A_shot_noise_blue\n",
    "    trans = np.loadtxt(path_data+'clgg_highL6000_sz_mask_C1+gaussian_filter20_smooth_blue_transfer_namaster.txt')\n",
    "if color == 'green':\n",
    "    alex = np.loadtxt(path_data+'Bandpowers_Auto_Sample2.dat')\n",
    "    cov = np.loadtxt(path_cov + \"Covariance_2222_green.txt\")\n",
    "    A_shot_noise  = A_shot_noise_green\n",
    "    trans = np.loadtxt(path_data+'clgg_highL6000_sz_mask_C1+gaussian_filter20_smooth_green_transfer_namaster.txt')\n",
    "if color == 'red':\n",
    "    alex = np.loadtxt(path_data+'Bandpowers_Auto_Sample7.dat')\n",
    "    cov = np.loadtxt(path_cov + \"Covariance_7777_red.txt\")\n",
    "    #s = s_red\n",
    "    A_shot_noise  = A_shot_noise_red\n",
    "    trans = np.loadtxt(path_data+'clgg_highL6000_sz_mask_C1+gaussian_filter20_smooth_red_16.2_transfer_namaster.txt')\n",
    "\n",
    "ell_alex, cl_alex, sigma_alex = alex[0], alex[1], alex[2]\n",
    "cov_alex = cov\n",
    "print(color)\n",
    "print(hod_pdict['galaxy_sample_id'])\n",
    "#print(cl_alex[:10])\n",
    "print(A_shot_noise)"
   ]
  },
  {
   "cell_type": "code",
   "execution_count": null,
   "id": "114aecca",
   "metadata": {},
   "outputs": [],
   "source": [
    "plt.figure(figsize=(8,6))\n",
    "plt.xlabel(r\"$\\ell$\", fontsize=30)\n",
    "plt.ylabel(r\"$C_l^{gg}$\", fontsize=30)\n",
    "plt.title('gg', fontsize=30)\n",
    "plt.yticks(fontsize=20)\n",
    "plt.xticks(fontsize=20)\n",
    "plt.grid(which='both',alpha=0.2)\n",
    "plt.yscale(\"log\")\n",
    "#plt.xscale(\"log\")\n",
    "plt.errorbar(ell_alex[1:10], (cl_alex)[1:10], yerr= sigma_alex[1:10], fmt = \".\", color = color, capsize=4, label=\"Alex data\")\n",
    "\n",
    "shot_noise_gg = 1.81*1e-7*np.ones(10000)\n",
    "\n",
    "plt.plot(cl_gg_ell, (cl_gg_1h+cl_gg_2h)/cl_to_dl_gg + 1.81*1e-7 , label=r'gg + shot noise')\n",
    "plt.plot(shot_noise_gg, \"--\", label = \"shot noise Alex\")\n",
    "\n",
    "plt.legend(loc='right',bbox_to_anchor=(1.4, 0.5), fontsize=20)"
   ]
  },
  {
   "cell_type": "code",
   "execution_count": null,
   "id": "1a3b301f",
   "metadata": {},
   "outputs": [],
   "source": [
    "(cl_gg_1h+cl_gg_2h)/cl_to_dl_gg"
   ]
  },
  {
   "cell_type": "code",
   "execution_count": null,
   "id": "16e7ad5d",
   "metadata": {},
   "outputs": [],
   "source": [
    "plt.figure(figsize=(8,6))\n",
    "plt.xlabel(r\"$\\ell$\", fontsize=30)\n",
    "plt.ylabel(r\"$C_l^{gg}$\", fontsize=30)\n",
    "plt.title('gg', fontsize=30)\n",
    "plt.yticks(fontsize=20)\n",
    "plt.xticks(fontsize=20)\n",
    "plt.grid(which='both',alpha=0.2)\n",
    "plt.yscale(\"log\")\n",
    "#plt.xscale(\"log\")\n",
    "plt.xlim(10, 1.e3)\n",
    "\n",
    "plt.errorbar(ell_alex[1:10], (cl_alex)[1:10], yerr= sigma_alex[1:10], fmt = \".\", color = color, capsize=4, label=\"Alex data\")\n",
    "\n",
    "shot_noise_gg = 1.81*1e-7*np.ones(10000)\n",
    "\n",
    "plt.plot(cl_gg_ell, (cl_gg_1h+cl_gg_2h)/cl_to_dl_gg + 0.92*1e-7 , label=r'gg + shot noise')\n",
    "plt.plot(shot_noise_gg, \"--\", label = \"shot noise Alex\")\n",
    "\n",
    "plt.legend(loc='right',bbox_to_anchor=(1.4, 0.5), fontsize=20)"
   ]
  },
  {
   "cell_type": "markdown",
   "id": "09c4bea8",
   "metadata": {},
   "source": [
    "missing the magnification terms "
   ]
  },
  {
   "cell_type": "markdown",
   "id": "0041faab",
   "metadata": {},
   "source": [
    "# Plot everything "
   ]
  },
  {
   "cell_type": "code",
   "execution_count": null,
   "id": "90d8ca15",
   "metadata": {
    "scrolled": false
   },
   "outputs": [],
   "source": [
    "ell_cib = np.asarray(cl_cib_cib[str(nu_list[0])+'x'+str(nu_list[0])]['ell'])\n",
    "cls_to_dls = ell_cib*(ell_cib+1.)/2./np.pi\n",
    "\n",
    "for (i,nu) in enumerate(nu_list):\n",
    "    plotfunction()\n",
    "    #plt.figure(figsize=(12,8), dpi=250)\n",
    "    plt.xlabel(r\"$\\ell$\", fontsize=30)\n",
    "    plt.ylabel(r\"$\\ell (\\ell+1) C_l / 2 \\pi \\,\\,\\, [\\mu K^2]$\", fontsize=30)\n",
    "    plt.title(str(nu_list[i])+' GHz $\\\\times$ '+str(nu_list[i])+' GHz', fontsize=30)\n",
    "    \n",
    "    ## CMB\n",
    "    plt.plot(ell, 1.e12*factor*cl_tot['tt'],label='total TT')\n",
    "    plt.plot(ell, 1.e12*factor*cl_lensed['tt'],\".\",label='lensed TT')    \n",
    "    ## kSZ\n",
    "    #plt.plot(ell_theory_battaglia, dl_kSZ_theory_battaglia, color = \"red\", label = \"kSZ (Battaglia) \")\n",
    "    plt.plot(ell_theory_battaglia, CellkSZhomog[:,1], color = \"red\", label = \"kSZ late (Battaglia) \")\n",
    "    plt.plot(ell_theory_battaglia, CellkSZpatchy[:,1],\"--\",  color = \"red\", label = \"kSZ patchy (Battaglia) \")\n",
    "\n",
    "    ## tSZ\n",
    "    #plt.plot(cls_tSZ[i]['ell'],cls_tSZ[i]['1h']+cls_tSZ[i]['2h'], color=\"blue\", label=r'tSZ')\n",
    "    tsz_tsz = yy*abs(tSZ_spectral_funct_at_nu_in_GHz(nu)**2)\n",
    "    plt.plot(cl_sz['ell'],tsz_tsz, color=\"blue\", label=r'tSZ')\n",
    "      \n",
    "    ## CIB\n",
    "    cls_cib_1h = np.asarray(cl_cib_cib[str(nu_list[i])+'x'+str(nu_list[i])]['1h'])\n",
    "    cls_cib_2h = np.asarray(cl_cib_cib[str(nu_list[i])+'x'+str(nu_list[i])]['2h'])\n",
    "    CIB_uK = (cls_cib_1h+cls_cib_2h) / convert_Jysr_to_uK(nu) /convert_Jysr_to_uK(nu)\n",
    "    plt.plot(cl_cib_cib[str(nu_list[1])+'x'+str(nu_list[1])]['ell'], CIB_uK, label=r'CIB')\n",
    "    \n",
    "    ## gg\n",
    "    plt.plot(cl_gg_ell, cl_gg_1h+cl_gg_2h ,color=\"brown\", label=r'gg (unitless)')\n",
    "    \n",
    "   ## noise\n",
    "    plt.plot(ell_noise, ell_noise*(ell_noise+1)*cl_noise/2/np.pi, \":\", color = \"black\", label=\"noise AdvACT\")\n",
    "    \n",
    "    plt.xlim(10, 8.e3)\n",
    "    plt.ylim(1e-4,6.e3)  \n",
    "\n",
    "    plt.legend(loc='right',bbox_to_anchor=(1.4, 0.5), fontsize=20)\n",
    "\n",
    "    ##Save the curves\n",
    "    if save_to_file == \"yes\":\n",
    "        np.savetxt(path_save+'ell_dl_'+str(nu)+'x'+str(nu)+\"_GHz_CIBxCIB.txt\", (cl_cib_cib[str(nu_list[1])+'x'+str(nu_list[1])]['ell'], CIB_uK))\n",
    "        np.savetxt(path_save+'ell_dl_'+str(nu)+'x'+str(nu)+\"_GHz_tSZxtSZ.txt\", (cl_sz['ell'],tsz_tsz))\n",
    "if save_to_file == \"yes\":\n",
    "    np.savetxt(path_save+\"ell_dl_CMB_lensed.txt\", (ell, 1.e12*factor*cl_lensed['tt']))\n",
    "    np.savetxt(path_save+\"ell_dl_CMB.txt\", (ell, 1.e12*factor*cl_tot['tt']))\n",
    "    np.savetxt(path_save+\"ell_dl_gg_\"+color+\".txt\", (cl_gg_ell, cl_gg_1h+cl_gg_2h))\n"
   ]
  },
  {
   "cell_type": "code",
   "execution_count": null,
   "id": "eb2f045d",
   "metadata": {
    "scrolled": false
   },
   "outputs": [],
   "source": [
    "ell_cib = np.asarray(cl_cib_cib[str(nu_list[0])+'x'+str(nu_list[0])]['ell'])\n",
    "cls_to_dls = ell_cib*(ell_cib+1.)/2./np.pi\n",
    "\n",
    "for (i,nu) in enumerate(nu_list):\n",
    "    plt.figure(figsize=(12,8), dpi=250)\n",
    "    plt.xlabel(r\"$\\ell$\", fontsize=30)\n",
    "    plt.ylabel(r\"$\\ell (\\ell+1) C_l / 2 \\pi \\,\\,\\, [\\mu K^2]$\", fontsize=30)\n",
    "    plt.title(str(nu_list[i])+' GHz $\\\\times$ '+str(nu_list[i])+' GHz', fontsize=30)\n",
    "    \n",
    "    # CMB\n",
    "    plt.plot(ell, 1.e12*factor*cl_tot['tt'],label='total TT')  \n",
    "    ## gg\n",
    "    plt.plot(cl_gg_ell, cl_gg_1h+cl_gg_2h ,color=\"brown\", label=r'gg')\n",
    "    \n",
    "    # tSZ x g\n",
    "    yg = np.asarray(cl_tszg['1h'])+np.asarray(cl_tszg['2h'])\n",
    "    tSZg_uK = yg*tSZ_spectral_funct_at_nu_in_GHz(nu)\n",
    "    plt.plot(cl_tszg['ell'],abs(tSZg_uK), \"--\",color=\"lightblue\", label=r'$|$tSZ x g$|$')\n",
    "    \n",
    "    #CIB x g \n",
    "    cl_cib_g_1h = np.asarray(cl_cib_g[str(nu_list[i])]['1h'])\n",
    "    cl_cib_g_2h = np.asarray(cl_cib_g[str(nu_list[i])]['2h'])\n",
    "    CIBg_uK = (cl_cib_g_1h + cl_cib_g_2h)/convert_Jysr_to_uK(nu)\n",
    "    plt.plot(cl_cib_g[str(nu_list[1])]['ell'], CIBg_uK , color=\"lightgreen\", label=r'CIB $\\times$ g')\n",
    "\n",
    "    #tSZ x CIB \n",
    "    ell_tsz_cib = np.asarray(cl_tsz_cib[str(nu_list[0])]['ell'])\n",
    "    cl_tsz_cib_1h = np.asarray(cl_tsz_cib[str(nu)]['1h'])\n",
    "    cl_tsz_cib_2h = np.asarray(cl_tsz_cib[str(nu)]['2h'])\n",
    "    CIBtSZ_uK = (cl_tsz_cib_1h+cl_tsz_cib_2h)*tSZ_spectral_funct_at_nu_in_GHz(nu)/ convert_Jysr_to_uK(nu)\n",
    "    plt.plot(ell_tsz_cib, abs(CIBtSZ_uK), label=r'$|$ tSZ $\\times$ CIB $|$')\n",
    "    \n",
    "    #noise\n",
    "    plt.plot(ell_noise, ell_noise*(ell_noise+1)*cl_noise/2/np.pi, \":\", color = \"black\", label=\"noise AdvACT\")\n",
    "    \n",
    "    \n",
    "    plt.yscale(\"log\")\n",
    "    plt.xscale(\"log\")\n",
    "    plt.xlim(10, 8.e3)\n",
    "    #plt.ylim(1e-4,6.e3)  \n",
    "    plt.yticks(fontsize=20)\n",
    "    plt.xticks(fontsize=20)\n",
    "    plt.grid(which='both',alpha=0.2)\n",
    "    plt.legend(loc='right',bbox_to_anchor=(1.4, 0.5), fontsize=20)\n",
    "\n",
    "    ##Save the curves\n",
    "    if save_to_file == \"yes\":\n",
    "        np.savetxt(path_save+'ell_dl_'+str(nu)+'x'+str(nu)+\"_GHz_tSZxCIB.txt\", (ell_tsz_cib, CIBtSZ_uK))\n",
    "        np.savetxt(path_save+'ell_dl_'+str(nu)+'x'+str(nu)+\"_GHz_tSZxg_\"+color+\".txt\", (cl_tszg['ell'], tSZg_uK))\n",
    "        np.savetxt(path_save+'ell_dl_'+str(nu)+'x'+str(nu)+\"_GHz_CIBxg_\"+color+\".txt\", (cl_cib_g[str(nu_list[1])]['ell'], CIBg_uK))\n"
   ]
  },
  {
   "cell_type": "markdown",
   "id": "debf501f",
   "metadata": {},
   "source": [
    "# Plot cross frequencies "
   ]
  },
  {
   "cell_type": "code",
   "execution_count": null,
   "id": "fbc744eb",
   "metadata": {},
   "outputs": [],
   "source": []
  },
  {
   "cell_type": "markdown",
   "id": "ae0e4fa1",
   "metadata": {},
   "source": [
    "## CIB x CIB"
   ]
  },
  {
   "cell_type": "code",
   "execution_count": null,
   "id": "7cf9eed6",
   "metadata": {},
   "outputs": [],
   "source": [
    "plotfunction()\n",
    "plt.ylabel(r\"$\\ell (\\ell+1) C_l / 2 \\pi \\,\\,\\, [\\mu K^2]$\", fontsize=30)\n",
    "plt.title(r\"CIB \\ $\\times$ \\ CIB\", fontsize =30)\n",
    "  \n",
    "\n",
    "\n",
    "for (i,nu1) in enumerate(nu_list):\n",
    "    for (j,nu2) in enumerate(nu_list):\n",
    "        if nu1!=nu2:\n",
    "            nu1_nu2 = str(nu1)+\"x\"+str(nu2)\n",
    "            nu2_nu1 = str(nu2)+\"x\"+str(nu1)\n",
    "            if nu1_nu2 in cl_cib_cib:\n",
    "                print(nu1_nu2)\n",
    "                cl_cib_1h = np.asarray(cl_cib_cib[nu1_nu2]['1h'])\n",
    "                cl_cib_2h = np.asarray(cl_cib_cib[nu1_nu2]['2h'])\n",
    "                cl_cib_uK = (cl_cib_1h+cl_cib_2h) / convert_Jysr_to_uK(nu1) /convert_Jysr_to_uK(nu2)\n",
    "                plt.plot(cl_cib_cib[str(nu_list[1])+'x'+str(nu_list[1])]['ell'], cl_cib_uK, label=r\"%.1i  $\\times$ %.1i \"%(nu1,nu2))#str(mu)+\"x\"+str(niu))\n",
    "                if save_to_file == \"yes\":\n",
    "                    np.savetxt(path_save+'ell_dl_'+str(nu1)+\"x\"+str(nu2)+\"_GHz_CIBxCIB.txt\", ( cl_cib_cib[str(nu_list[1])+'x'+str(nu_list[1])]['ell'], cl_cib_uK ) )\n",
    "                    np.savetxt(path_save+'ell_dl_'+str(nu2)+\"x\"+str(nu1)+\"_GHz_CIBxCIB.txt\", ( cl_cib_cib[str(nu_list[1])+'x'+str(nu_list[1])]['ell'], cl_cib_uK ) )\n",
    "\n",
    "        \n",
    "plt.legend(loc='right',bbox_to_anchor=(1.4, 0.5), fontsize=20)"
   ]
  },
  {
   "cell_type": "markdown",
   "id": "cb402643",
   "metadata": {},
   "source": [
    "## tSZ x tSZ "
   ]
  },
  {
   "cell_type": "code",
   "execution_count": null,
   "id": "b737d4d1",
   "metadata": {},
   "outputs": [],
   "source": [
    "# function used to compute tsz at nu (inside class-sz)\n",
    "def cl_sz_at_nu1_nu2_in_GHz_in_microK2(cl_sz, nu1_in_GHz, nu2_in_GHz):\n",
    "    print(nu1_in_GHz, nu2_in_GHz)\n",
    "    frequency1_in_Hz, frequency2_in_Hz = nu1_in_GHz*1e9, nu2_in_GHz*1e9\n",
    "    Tcmb_gNU1 = TCMB*((_h_P_*frequency1_in_Hz/(_k_B_*TCMB))*(1./np.tanh((_h_P_*frequency1_in_Hz/(_k_B_*TCMB))/2.))-4.)\n",
    "    Tcmb_gNU2 = TCMB*((_h_P_*frequency2_in_Hz/(_k_B_*TCMB))*(1./np.tanh((_h_P_*frequency2_in_Hz/(_k_B_*TCMB))/2.))-4.)\n",
    "    \n",
    "    r = {}\n",
    "    r['ell'] = np.asarray(cl_sz['ell'])\n",
    "    r['1h'] = np.asarray(cl_sz['1h'])*Tcmb_gNU1*Tcmb_gNU2\n",
    "    r['2h'] = np.asarray(cl_sz['2h'])*Tcmb_gNU1*Tcmb_gNU2\n",
    "    return r"
   ]
  },
  {
   "cell_type": "code",
   "execution_count": null,
   "id": "94c38be4",
   "metadata": {},
   "outputs": [],
   "source": [
    "plotfunction()\n",
    "plt.ylabel(r\"$\\ell (\\ell+1) C_l / 2 \\pi \\,\\,\\, [\\mu K^2]$\", fontsize=30)\n",
    "plt.title(r\"$|$ tSZ \\ $\\times$ \\ tSZ $|$\", fontsize =30)\n",
    "\n",
    "for (i,nu1) in enumerate(nu_list):\n",
    "    for (j,nu2) in enumerate(nu_list):\n",
    "        if nu1!=nu2:\n",
    "            cl_tsz_cross = ( np.asarray(cl_sz['1h'])+np.asarray(cl_sz['2h']) )*tSZ_spectral_funct_at_nu_in_GHz(nu1)*tSZ_spectral_funct_at_nu_in_GHz(nu2)\n",
    "            plt.plot(cl_sz['ell'], abs(cl_tsz_cross), label=r\"%.1i $\\times$ %.1i\"%(nu1, nu2))\n",
    "            if save_to_file == \"yes\":\n",
    "                np.savetxt(path_save+'ell_dl_'+str(nu1)+\"x\"+str(nu2)+\"_GHz_tSZxtSZ.txt\", ( cl_sz['ell'], cl_tsz_cross ) )\n",
    "                np.savetxt(path_save+'ell_dl_'+str(nu2)+\"x\"+str(nu1)+\"_GHz_tSZxtSZ.txt\", ( cl_sz['ell'], cl_tsz_cross ) )\n",
    "\n",
    "plt.legend(loc='right',bbox_to_anchor=(1.4, 0.5), fontsize=20)\n"
   ]
  },
  {
   "cell_type": "code",
   "execution_count": null,
   "id": "60bdc532",
   "metadata": {
    "scrolled": false
   },
   "outputs": [],
   "source": [
    "for (i,nu_cib) in enumerate(nu_list):\n",
    "    plotfunction()\n",
    "    plt.xlabel(r\"$\\ell$\", size=30)\n",
    "    plt.ylabel(r\"$ C_l^{\\rm{ tSZ \\times \\nu}} \\,\\,\\, [\\mu K^2]$\", fontsize=30)\n",
    "    plt.title(r' $|$ tSZ $\\times$ CIB  $|$', fontsize=30)\n",
    "\n",
    "    \n",
    "    ell_tsz_cib = np.asarray(cl_tsz_cib[str(nu_cib)]['ell'])\n",
    "    cl_tsz_cib_1h = np.asarray(cl_tsz_cib[str(nu_cib)]['1h'])\n",
    "    cl_tsz_cib_2h = np.asarray(cl_tsz_cib[str(nu_cib)]['2h'])  \n",
    "    CIBy_uK = (cl_tsz_cib_1h+cl_tsz_cib_2h)/ convert_Jysr_to_uK(nu_cib)\n",
    "    \n",
    "\n",
    "    for (j,nu_sz) in enumerate(nu_list):\n",
    "        if nu_sz!=nu_cib:\n",
    "            CIBtSZ_uK = CIBy_uK*tSZ_spectral_funct_at_nu_in_GHz(nu_sz)\n",
    "            plt.plot(ell_tsz_cib, abs(CIBtSZ_uK),'-',label=r'%.1i $\\times$ %.1i '%(nu_sz, nu_cib))\n",
    "            if save_to_file == \"yes\":\n",
    "                np.savetxt(path_save+\"ell_dl_\"+str(nu_sz)+\"x\"+str(nu_cib)+\"_GHz_tSZxCIB.txt\", ( ell_tsz_cib, (CIBtSZ_uK)) )\n",
    "                np.savetxt(path_save+\"ell_dl_\"+str(nu_cib)+\"x\"+str(nu_sz)+\"_GHz_CIBxtSZ.txt\", ( ell_tsz_cib, (CIBtSZ_uK)) )\n",
    "\n",
    "    plt.legend(loc='right',  fontsize=20)    \n",
    "  "
   ]
  },
  {
   "cell_type": "markdown",
   "id": "95854848",
   "metadata": {},
   "source": [
    "## tSZ x CIB"
   ]
  },
  {
   "cell_type": "code",
   "execution_count": null,
   "id": "f10c10ff",
   "metadata": {},
   "outputs": [],
   "source": [
    "# assuming cl_tSZ_CIB is already multiplied by the spectral response function \n",
    "\n",
    "def cl_yCIB_at_nu_in_GHz(cl_sz_cib, nu_in_GHz):\n",
    "    print(nu_in_GHz)\n",
    "    frequency_in_Hz= nu_in_GHz*1e9\n",
    "    Tcmb_gNU1 = TCMB*((_h_P_*frequency_in_Hz/(_k_B_*TCMB))*(1./np.tanh((_h_P_*frequency_in_Hz/(_k_B_*TCMB))/2.))-4.)\n",
    "    \n",
    "    yCIB = {}\n",
    "    yCIB['ell'] = np.asarray(cl_sz_cib['ell'])\n",
    "    yCIB['1h'] = np.asarray(cl_sz_cib['1h'])/Tcmb_gNU1\n",
    "    yCIB['2h'] = np.asarray(cl_sz_cib['2h'])/Tcmb_gNU1\n",
    "    return yCIB"
   ]
  },
  {
   "cell_type": "code",
   "execution_count": null,
   "id": "2ce71fa2",
   "metadata": {
    "scrolled": false
   },
   "outputs": [],
   "source": [
    "for (i,nu_cib) in enumerate(nu_list):\n",
    "    plotfunction()\n",
    "    plt.ylabel(r\"$ C_l^{\\rm{ tSZ \\times \\nu}} \\,\\,\\, [\\mu K^2]$\", fontsize=30)\n",
    "    plt.title(r' $|$ tSZ $\\times$ CIB  $|$', fontsize=30)\n",
    "    \n",
    "    ell_tsz_cib = np.asarray(cl_tsz_cib[str(nu_cib)]['ell'])\n",
    "    cl_tsz_cib_1h = np.asarray(cl_tsz_cib[str(nu_cib)]['1h'])\n",
    "    cl_tsz_cib_2h = np.asarray(cl_tsz_cib[str(nu_cib)]['2h'])  \n",
    "    CIBy_uK = (cl_tsz_cib_1h+cl_tsz_cib_2h)/ convert_Jysr_to_uK(nu_cib)\n",
    "    \n",
    "\n",
    "    for (j,nu_sz) in enumerate(nu_list):\n",
    "        if nu_sz!=nu_cib:\n",
    "            CIBtSZ_uK = CIBy_uK*tSZ_spectral_funct_at_nu_in_GHz(nu_sz)\n",
    "            plt.plot(ell_tsz_cib, abs(CIBtSZ_uK),'-',label=r'%.1i $\\times$ %.1i '%(nu_sz, nu_cib))\n",
    "            if save_to_file == \"yes\":\n",
    "                np.savetxt(path_save+\"ell_dl_\"+str(nu_sz)+\"x\"+str(nu_cib)+\"_GHz_tSZxCIB.txt\", ( ell_tsz_cib, (CIBtSZ_uK)) )\n",
    "                np.savetxt(path_save+\"ell_dl_\"+str(nu_cib)+\"x\"+str(nu_sz)+\"_GHz_CIBxtSZ.txt\", ( ell_tsz_cib, (CIBtSZ_uK)) )\n",
    "\n",
    "    plt.legend(loc='right',  fontsize=20)    \n",
    "  "
   ]
  },
  {
   "cell_type": "code",
   "execution_count": null,
   "id": "b48689e0",
   "metadata": {
    "scrolled": false
   },
   "outputs": [],
   "source": [
    "for (i,nu_cib) in enumerate(nu_list):\n",
    "    plotfunction()\n",
    "    plt.xlabel(r\"$\\ell$\", size=30)\n",
    "    plt.ylabel(r\"$ C_l^{\\rm{ tSZ \\times \\nu}} \\,\\,\\, [\\mu K^2]$\", size=30)\n",
    "    plt.title(r' $|$ tSZ $\\times$ CIB  $|$', fontsize=30)\n",
    "\n",
    "    \n",
    "    ell_tsz_cib = np.asarray(cl_tsz_cib[str(nu_cib)]['ell'])\n",
    "    cl_tsz_cib_1h = np.asarray(cl_tsz_cib[str(nu_cib)]['1h'])\n",
    "    cl_tsz_cib_2h = np.asarray(cl_tsz_cib[str(nu_cib)]['2h'])  \n",
    "    CIBy_uK = (cl_tsz_cib_1h+cl_tsz_cib_2h)/ convert_Jysr_to_uK(nu_cib)\n",
    "    \n",
    "\n",
    "    for (j,nu_sz) in enumerate(nu_list):\n",
    "        if nu_sz!=nu_cib:\n",
    "            CIBtSZ_uK = CIBy_uK*tSZ_spectral_funct_at_nu_in_GHz(nu_sz)\n",
    "            plt.plot(ell_tsz_cib, abs(CIBtSZ_uK),'-',label=r'%.1i $\\times$ %.1i '%(nu_sz, nu_cib))\n",
    "            if save_to_file == \"yes\":\n",
    "                np.savetxt(path_save+\"ell_dl_\"+str(nu_sz)+\"x\"+str(nu_cib)+\"_GHz_tSZxCIB.txt\", ( ell_tsz_cib, (CIBtSZ_uK)) )\n",
    "\n",
    "    plt.legend(loc='right',  fontsize=20)    \n",
    "  "
   ]
  },
  {
   "cell_type": "markdown",
   "id": "19a619c0",
   "metadata": {},
   "source": [
    "# CIB x tSZ all plot"
   ]
  },
  {
   "cell_type": "code",
   "execution_count": null,
   "id": "5a1548f1",
   "metadata": {
    "scrolled": false
   },
   "outputs": [],
   "source": [
    "for (i,nu1) in enumerate(nu_list):\n",
    "    for (j,nu2) in enumerate(nu_list):\n",
    "        if nu1>=nu2:\n",
    "            plotfunction()\n",
    "            plt.title(r'%.1i $\\times$ %.1i'%(nu1, nu2), fontsize=30)\n",
    "            plt.ylabel(r\"$ C_l \\,\\,\\, [Jy^2/sr]$\", size=30)\n",
    " \n",
    "\n",
    "            #CIB\n",
    "            nu1_nu2 = str(nu1)+\"x\"+str(nu2)\n",
    "            cl_cib_1h = np.asarray(cl_cib_cib[nu1_nu2]['1h'])\n",
    "            cl_cib_2h = np.asarray(cl_cib_cib[nu1_nu2]['2h'])\n",
    "            cl_cib_Jy2sr = (cl_cib_1h+cl_cib_2h)\n",
    "\n",
    "            #tSZ\n",
    "            cl_tsz = yy*tSZ_spectral_funct_at_nu_in_GHz(nu1)*tSZ_spectral_funct_at_nu_in_GHz(nu2)\n",
    "            cl_tsz_Jy2sr= cl_tsz * convert_Jysr_to_uK(nu1) * convert_Jysr_to_uK(nu2)\n",
    "\n",
    "            #tSZ x CIB (assume in uK)\n",
    "            cl_tsz_cib_1h = np.asarray(cl_tsz_cib[str(nu1)]['1h'])\n",
    "            cl_tsz_cib_2h = np.asarray(cl_tsz_cib[str(nu1)]['2h'])  \n",
    "            CIBy_uK = (cl_tsz_cib_1h+cl_tsz_cib_2h) * convert_Jysr_to_uK(nu1)\n",
    "            CIBtSZ_uK = CIBy_uK*tSZ_spectral_funct_at_nu_in_GHz(nu2) * convert_Jysr_to_uK(nu2)\n",
    "\n",
    "            cls_to_dls = ell_cib*(ell_cib+1.)/2./np.pi\n",
    "            plt.plot(ell_tsz_cib, abs(CIBtSZ_uK/cls_to_dls), color=\"red\", label=\"tSZ x CIB\")\n",
    "            plt.plot(ell_tsz_cib, abs(cl_tsz_Jy2sr/cls_to_dls), color=\"blue\", label=\"tSZ\")\n",
    "            plt.plot(ell_tsz_cib, abs(cl_cib_Jy2sr/cls_to_dls), color=\"black\", label=\"CIB\")\n",
    "            #np.savetxt(path_save+\"ell_dl_\"+str(nu_sz)+\"x\"+str(nu_cib)+\"_GHz_tSZxCIB.txt\", ( ell_tsz_cib, (CIBtSZ_uK)) )\n",
    "\n",
    "            plt.legend(loc='right',  fontsize=20)    \n",
    "  "
   ]
  },
  {
   "cell_type": "markdown",
   "id": "e00d0e3b",
   "metadata": {},
   "source": [
    "# CIB - g "
   ]
  },
  {
   "cell_type": "code",
   "execution_count": null,
   "id": "2936cbf3",
   "metadata": {
    "scrolled": false
   },
   "outputs": [],
   "source": [
    "ell_cib = np.asarray(cl_cib_cib[str(nu_list[0])+'x'+str(nu_list[0])]['ell'])\n",
    "cls_to_dls = ell_cib*(ell_cib+1.)/2./np.pi\n",
    "\n",
    "for (i,nu) in enumerate(nu_list):\n",
    "    plotfunction()\n",
    "    plt.ylabel(r\"$\\ell (\\ell+1) C_l / 2 \\pi \\,\\,\\, [\\mu K^2]$\", fontsize=30)\n",
    "    plt.title(str(nu_list[i])+' GHz $\\\\times$ '+str(nu_list[i])+' GHz', fontsize=30)\n",
    "\n",
    "    plt.xlim(10, 8.e3)\n",
    "    #plt.ylim(1e-4,6.e3)  \n",
    "\n",
    "    \n",
    "    ## gg\n",
    "    plt.plot(cl_gg_ell, cl_gg_1h+cl_gg_2h ,color=\"brown\",linewidth=2, label=r'gg')\n",
    "    plt.plot(cl_gg_ell, cl_gg_1h , \"--\", color=\"brown\", label=r'gg 1h ')\n",
    "    plt.plot(cl_gg_ell, cl_gg_2h , \":\", color=\"brown\", label=r'gg 2h ')  \n",
    "    \n",
    "    #CIB x g \n",
    "    cl_cib_g_1h = np.asarray(cl_cib_g[str(nu_list[i])]['1h'])\n",
    "    cl_cib_g_2h = np.asarray(cl_cib_g[str(nu_list[i])]['2h'])\n",
    "    CIBg_uK = (cl_cib_g_1h + cl_cib_g_2h)/convert_Jysr_to_uK(nu)\n",
    "    CIBg_uK_1h = (cl_cib_g_1h)/convert_Jysr_to_uK(nu)\n",
    "    CIBg_uK_2h = ( cl_cib_g_2h)/convert_Jysr_to_uK(nu)\n",
    "    plt.plot(cl_cib_g[str(nu_list[1])]['ell'], CIBg_uK , color=\"green\", linewidth=2, label=r'CIB $\\times$ g')\n",
    "    plt.plot(cl_cib_g[str(nu_list[1])]['ell'], CIBg_uK_1h , \"--\", color=\"green\", label=r'CIB $\\times$ g, 1h')\n",
    "    plt.plot(cl_cib_g[str(nu_list[1])]['ell'], CIBg_uK_2h , \":\", color=\"green\", label=r'CIB $\\times$ g, 2h')\n",
    " \n",
    "   ## CIB\n",
    "    cls_cib_1h = np.asarray(cl_cib_cib[str(nu_list[i])+'x'+str(nu_list[i])]['1h'])\n",
    "    cls_cib_2h = np.asarray(cl_cib_cib[str(nu_list[i])+'x'+str(nu_list[i])]['2h'])\n",
    "    CIB_uK = (cls_cib_1h+cls_cib_2h) / convert_Jysr_to_uK(nu) /convert_Jysr_to_uK(nu)\n",
    "    CIB_uK_1h = (cls_cib_1h) / convert_Jysr_to_uK(nu) /convert_Jysr_to_uK(nu)\n",
    "    CIB_uK_2h = (cls_cib_2h) / convert_Jysr_to_uK(nu) /convert_Jysr_to_uK(nu)\n",
    "\n",
    "    plt.plot(cl_cib_cib[str(nu_list[1])+'x'+str(nu_list[1])]['ell'], CIB_uK, color=\"blue\", linewidth=2,  label=r'CIB')\n",
    "    plt.plot(cl_cib_cib[str(nu_list[1])+'x'+str(nu_list[1])]['ell'], CIB_uK_1h,\"--\", color=\"blue\", label=r'CIB, 1h ')\n",
    "    plt.plot(cl_cib_cib[str(nu_list[1])+'x'+str(nu_list[1])]['ell'], CIB_uK_2h,\":\", color=\"blue\", label=r'CIB, 2h ')\n",
    "\n",
    "    plt.legend(loc='right',bbox_to_anchor=(1.4, 0.5), fontsize=15)\n",
    "\n"
   ]
  },
  {
   "cell_type": "markdown",
   "id": "5c9c463e",
   "metadata": {},
   "source": [
    "# correlation coefficients \n",
    "\n",
    "eq. 38 in https://arxiv.org/pdf/2006.16329.pdf"
   ]
  },
  {
   "cell_type": "markdown",
   "id": "6f60fa79",
   "metadata": {},
   "source": [
    "## CIB x tSZ"
   ]
  },
  {
   "cell_type": "code",
   "execution_count": null,
   "id": "4c13b446",
   "metadata": {
    "scrolled": false
   },
   "outputs": [],
   "source": [
    "ell_cib = np.asarray(cl_cib_cib[str(nu_list[0])+'x'+str(nu_list[0])]['ell'])\n",
    "cls_to_dls = ell_cib*(ell_cib+1.)/2./np.pi\n",
    "\n",
    "plt.figure(figsize=(12,8), dpi=150)\n",
    "plt.xlabel(r\"$\\ell$\", fontsize=30)\n",
    "plt.ylabel(r\"corr\", fontsize=30)\n",
    "plt.title('CIB x tSZ', fontsize=30)\n",
    "plt.xscale('log')\n",
    "for (i,nu) in enumerate(nu_list):  \n",
    "    ## tSZ\n",
    "    tsz_tsz = yy\n",
    "      \n",
    "    ## CIB\n",
    "    cls_cib_1h = np.asarray(cl_cib_cib[str(nu_list[i])+'x'+str(nu_list[i])]['1h'])#/cls_to_dls\n",
    "    cls_cib_2h = np.asarray(cl_cib_cib[str(nu_list[i])+'x'+str(nu_list[i])]['2h'])#/cls_to_dls\n",
    "    CIB_uK = (cls_cib_1h+cls_cib_2h) \n",
    "  \n",
    "    #tSZ x CIB \n",
    "    ell_tsz_cib = np.asarray(cl_tsz_cib[str(nu_list[0])]['ell'])\n",
    "    cl_tsz_cib_1h = np.asarray(cl_tsz_cib[str(nu)]['1h'])\n",
    "    cl_tsz_cib_2h = np.asarray(cl_tsz_cib[str(nu)]['2h'])\n",
    "    CIBtSZ_uK = (cl_tsz_cib_1h+cl_tsz_cib_2h) # convert_Jysr_to_uK(nu)\n",
    "    \n",
    "    corr = CIBtSZ_uK/2/np.sqrt(CIB_uK*tsz_tsz)   \n",
    "    plt.plot(ell_tsz_cib, corr, label = \"%.1i GHZ\"%(nu))\n",
    "    \n",
    "    plt.yticks(fontsize=20)\n",
    "    plt.xticks(fontsize=20)\n",
    "    plt.grid(which='both',alpha=0.2)\n",
    "    plt.legend(loc='right',bbox_to_anchor=(1.4, 0.5), fontsize=20)\n",
    "\n",
    " "
   ]
  },
  {
   "cell_type": "markdown",
   "id": "fd91ca3f",
   "metadata": {},
   "source": [
    "##  tSZ x g \n"
   ]
  },
  {
   "cell_type": "code",
   "execution_count": null,
   "id": "b0df9157",
   "metadata": {},
   "outputs": [],
   "source": [
    "ell_cib = np.asarray(cl_cib_cib[str(nu_list[0])+'x'+str(nu_list[0])]['ell'])\n",
    "cls_to_dls = ell_cib*(ell_cib+1.)/2./np.pi\n",
    "\n",
    "plt.figure(figsize=(12,8), dpi=250)\n",
    "plt.xlabel(r\"$\\ell$\", fontsize=30)\n",
    "plt.ylabel(r\"corr\", fontsize=30)\n",
    "plt.title('tSZ x g %.6s'%(color), fontsize=30)\n",
    "plt.xscale('log')\n",
    "for (i,nu) in enumerate(nu_list):  \n",
    "    ## tSZ\n",
    "    tsz_tsz = yy*tSZ_spectral_funct_at_nu_in_GHz(nu)**2\n",
    "      \n",
    "   # tSZ x g\n",
    "    yg = np.asarray(cl_tszg['1h'])+np.asarray(cl_tszg['2h'])\n",
    "    tSZg_uK = yg*tSZ_spectral_funct_at_nu_in_GHz(nu)\n",
    "    \n",
    "    #shot noise\n",
    "    SN = 1.81*1e-7 * (ell_tsz_cib)*(ell_tsz_cib+1) /2/np.pi\n",
    "    \n",
    "    corr = tSZg_uK/np.sqrt((cl_gg_1h+cl_gg_2h+SN)*tsz_tsz)   \n",
    "    plt.plot(ell_tsz_cib, corr, label = \"%.1i GHz\"%(nu))\n",
    "    \n",
    "    plt.yticks(fontsize=20)\n",
    "    plt.xticks(fontsize=20)\n",
    "    plt.grid(which='both',alpha=0.2)\n",
    "    plt.legend(loc='right',bbox_to_anchor=(1.4, 0.5), fontsize=20)\n",
    "\n",
    " "
   ]
  },
  {
   "cell_type": "markdown",
   "id": "3e24c85f",
   "metadata": {},
   "source": [
    "## CIB x g "
   ]
  },
  {
   "cell_type": "code",
   "execution_count": null,
   "id": "2f4eb966",
   "metadata": {},
   "outputs": [],
   "source": [
    "ell_cib = np.asarray(cl_cib_cib[str(nu_list[0])+'x'+str(nu_list[0])]['ell'])\n",
    "cls_to_dls = ell_cib*(ell_cib+1.)/2./np.pi\n",
    "\n",
    "plt.figure(figsize=(8,6))\n",
    "plt.xlabel(r\"$\\ell$\", fontsize=30)\n",
    "plt.ylabel(r\"corr\", fontsize=30)\n",
    "plt.title('CIB x g %.6s'%(color), fontsize=30)\n",
    "plt.xscale('log')\n",
    "for (i,nu) in enumerate(nu_list):  \n",
    "    ## CIB\n",
    "    cls_cib_1h = np.asarray(cl_cib_cib[str(nu_list[i])+'x'+str(nu_list[i])]['1h'])#/cls_to_dls\n",
    "    cls_cib_2h = np.asarray(cl_cib_cib[str(nu_list[i])+'x'+str(nu_list[i])]['2h'])#/cls_to_dls\n",
    "    CIB_uK = (cls_cib_1h+cls_cib_2h) #/ convert_Jysr_to_uK(nu) /convert_Jysr_to_uK(nu)\n",
    "     \n",
    "    ## gg\n",
    "    #plt.plot(cl_gg_ell, cl_gg_1h+cl_gg_2h ,color=\"brown\", label=r'gg')\n",
    "    \n",
    "    #CIB x g \n",
    "    cl_cib_g_1h = np.asarray(cl_cib_g[str(nu_list[i])]['1h'])\n",
    "    cl_cib_g_2h = np.asarray(cl_cib_g[str(nu_list[i])]['2h'])\n",
    "    CIBg_uK = (cl_cib_g_1h + cl_cib_g_2h)\n",
    " \n",
    "    #shot noise\n",
    "    SN_gg = 1.81*1e-7 * (ell_tsz_cib)*(ell_tsz_cib+1) /2/np.pi\n",
    "    \n",
    "    corr = CIBg_uK /np.sqrt((cl_gg_1h+cl_gg_2h+SN_gg)*CIB_uK)   \n",
    "    plt.plot(ell_tsz_cib, corr, label = \"%.1i GHz\"%(nu))\n",
    "    \n",
    "    plt.yticks(fontsize=20)\n",
    "    plt.xticks(fontsize=20)\n",
    "    plt.grid(which='both',alpha=0.2)\n",
    "    plt.legend(loc='right',bbox_to_anchor=(1.4, 0.5), fontsize=20)\n",
    "\n",
    " "
   ]
  },
  {
   "cell_type": "code",
   "execution_count": null,
   "id": "8689e084",
   "metadata": {},
   "outputs": [],
   "source": []
  },
  {
   "cell_type": "code",
   "execution_count": null,
   "id": "7afb2c36",
   "metadata": {},
   "outputs": [],
   "source": []
  },
  {
   "cell_type": "code",
   "execution_count": null,
   "id": "588ff3a6",
   "metadata": {},
   "outputs": [],
   "source": []
  },
  {
   "cell_type": "code",
   "execution_count": null,
   "id": "eae33c57",
   "metadata": {},
   "outputs": [],
   "source": []
  }
 ],
 "metadata": {
  "kernelspec": {
   "display_name": "Python 3 (ipykernel)",
   "language": "python",
   "name": "python3"
  },
  "language_info": {
   "codemirror_mode": {
    "name": "ipython",
    "version": 3
   },
   "file_extension": ".py",
   "mimetype": "text/x-python",
   "name": "python",
   "nbconvert_exporter": "python",
   "pygments_lexer": "ipython3",
   "version": "3.9.7"
  }
 },
 "nbformat": 4,
 "nbformat_minor": 5
}
