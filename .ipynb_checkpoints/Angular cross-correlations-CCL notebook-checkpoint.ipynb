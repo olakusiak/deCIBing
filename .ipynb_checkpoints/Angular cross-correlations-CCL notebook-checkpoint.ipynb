{
 "cells": [
  {
   "cell_type": "markdown",
   "id": "15b98352",
   "metadata": {},
   "source": [
    "# Angular cross correlations\n",
    "This notebook shows extended examples for how to calculate angular two-point correlators for a variety of projected tracers of the matter fluctuations. These make use of the flexible generalized tracers, halo model, and 2D $P(k,a)$ framework implemented in CCL."
   ]
  },
  {
   "cell_type": "code",
   "execution_count": 1,
   "id": "99c4a6d9",
   "metadata": {},
   "outputs": [],
   "source": [
    "import numpy as np\n",
    "import pyccl as ccl\n",
    "import pylab as plt\n",
    "import matplotlib.cm as cm\n",
    "%matplotlib inline"
   ]
  },
  {
   "cell_type": "code",
   "execution_count": 2,
   "id": "652a84ce",
   "metadata": {},
   "outputs": [],
   "source": [
    "cosmo = ccl.CosmologyVanillaLCDM()"
   ]
  },
  {
   "cell_type": "markdown",
   "id": "a1c7583f",
   "metadata": {},
   "source": [
    "We will consider 6 different projected quantities:\n",
    "- Galaxy overdensity\n",
    "- Cosmic shear\n",
    "- CMB lensing convergence\n",
    "- ISW contribution to CMB fluctuations\n",
    "- tSZ Compton-y fluctuations\n",
    "- CIB intensity maps\n",
    "\n",
    "The first step is generating \"tracers\" for these quantities."
   ]
  },
  {
   "cell_type": "markdown",
   "id": "8d8cb4af",
   "metadata": {},
   "source": [
    "## 1. Tracers\n",
    "`Tracers` are objects that describe the way in which 2D quantities are related to 3D quantities. They contain, for example, information about the radial kernel defining the projection, any scale-dependent transfer function (e.g. due to different quantities being related through spatial derivatives), and potential time derivatives. The 6 quantities listed above have standard CCL tracers associated with them. It is possible to create custom tracers for other quantities, and you can go as crazy as you want. Check out the [notebook on Generalized Tracers](https://github.com/LSSTDESC/CCLX/blob/master/GeneralizedTracers.ipynb)."
   ]
  },
  {
   "cell_type": "code",
   "execution_count": 3,
   "id": "7f63f93c",
   "metadata": {},
   "outputs": [],
   "source": [
    "z = np.linspace(0, 1, 256)\n",
    "nz = np.exp(-0.5*((z-0.5)/0.1)**2)\n",
    "b1 = np.ones_like(z)\n",
    "A_IA = 0.6*np.ones_like(z)\n",
    "\n",
    "tracers = {}\n",
    "# # Galaxy clustering\n",
    "# tracers['g'] = ccl.NumberCountsTracer(cosmo, has_rsd=False, dndz=(z, nz), bias=(z, b1))\n",
    "\n",
    "# # Cosmic shear with intrinsic alignments\n",
    "# tracers['s'] = ccl.WeakLensingTracer(cosmo, dndz=(z, nz), ia_bias=(z, A_IA))\n",
    "\n",
    "# # CMB lensing\n",
    "# tracers['k'] = ccl.CMBLensingTracer(cosmo, z_source=1100)\n",
    "\n",
    "# ISW\n",
    "#tracers['i'] = ccl.ISWTracer(cosmo)\n",
    "\n",
    "# tSZ\n",
    "tracers['y'] = ccl.tSZTracer(cosmo, z_max=3.)\n",
    "\n",
    "# CIB\n",
    "tracers['c'] = ccl.CIBTracer(cosmo, z_min=0.05)"
   ]
  },
  {
   "cell_type": "code",
   "execution_count": 4,
   "id": "78543871",
   "metadata": {},
   "outputs": [
    {
     "data": {
      "text/plain": [
       "<pyccl.tracers.Tracer at 0x7f8cd0d029d0>"
      ]
     },
     "execution_count": 4,
     "metadata": {},
     "output_type": "execute_result"
    }
   ],
   "source": [
    "ccl.Tracer()"
   ]
  },
  {
   "cell_type": "markdown",
   "id": "fb07f9da",
   "metadata": {},
   "source": [
    "Note that we have given galaxies a Gaussian redshift distribution centered about $z=0.5$, a linear bias of 1, and an intrinsic alignment amplitude of 0.6."
   ]
  },
  {
   "cell_type": "markdown",
   "id": "784bf818",
   "metadata": {},
   "source": [
    "## 2. 3D Power spectra\n",
    "The second ingredient is defining the power spectra that define the cross-correlations between the 3D quantities associated with each of these projected quantities. In the simplest case, these quantities will be linearly (or directly) related to the matter overdensity, in which case CCL's default will be to use the non-linear matter power spectrum it holds internally. Otherwise, you need to specify each $P(k)$ using `Pk2D` objects. Below we show how to do this using the halo model.\n",
    "\n",
    "Start by defining the range of `k` and scale factor `a` over which you will calculate these power spectra:"
   ]
  },
  {
   "cell_type": "code",
   "execution_count": 5,
   "id": "f392cb4b",
   "metadata": {},
   "outputs": [],
   "source": [
    "lk_arr = np.log(np.geomspace(1E-4, 100, 256))\n",
    "a_arr = 1./(1+np.linspace(0, 6., 40)[::-1])"
   ]
  },
  {
   "cell_type": "markdown",
   "id": "f7db6c3b",
   "metadata": {},
   "source": [
    "Now define the halo model ingredients you'll use (which mass function, halo bias etc. see the [halo model notebook](https://github.com/LSSTDESC/CCLX/blob/master/Halo-model-Pk.ipynb) for more info)."
   ]
  },
  {
   "cell_type": "markdown",
   "id": "ddfddab6",
   "metadata": {},
   "source": [
    "### 2.1 Halo model ingredients"
   ]
  },
  {
   "cell_type": "code",
   "execution_count": 6,
   "id": "848f3c01",
   "metadata": {},
   "outputs": [],
   "source": [
    "mass_def = ccl.halos.MassDef(200, 'critical')\n",
    "hmf = ccl.halos.MassFuncTinker08(cosmo, mass_def=mass_def)\n",
    "hbf = ccl.halos.HaloBiasTinker10(cosmo, mass_def=mass_def)\n",
    "cm = ccl.halos.ConcentrationDuffy08(mass_def)\n",
    "hmc = ccl.halos.HMCalculator(cosmo, hmf, hbf, mass_def)"
   ]
  },
  {
   "cell_type": "markdown",
   "id": "f42d9f46",
   "metadata": {},
   "source": [
    "### 2.2 Halo profiles\n",
    "Now generate halo profiles for all quantities. We will use an HOD parametrization for galaxy clustering. Check the [documentation](https://ccl.readthedocs.io/en/latest/) for the different parameters you can use to tune these profiles."
   ]
  },
  {
   "cell_type": "code",
   "execution_count": 7,
   "id": "a36201bd",
   "metadata": {},
   "outputs": [],
   "source": [
    "profs = {}\n",
    "# This just defines which of these tracers should be normalized (e.g. overdensities)\n",
    "norm = {}\n",
    "\n",
    "# # Galaxy clustering\n",
    "# profs['g'] = ccl.halos.HaloProfileHOD(cm)\n",
    "# norm['g'] = True\n",
    "\n",
    "# Cosmic shear\n",
    "profs['s'] = ccl.halos.HaloProfileNFW(cm)\n",
    "norm['s'] = True\n",
    "\n",
    "# CMB lensing\n",
    "profs['k'] = ccl.halos.HaloProfileNFW(cm)\n",
    "norm['k'] = True\n",
    "\n",
    "# ISW\n",
    "profs['i'] = ccl.halos.HaloProfileNFW(cm)\n",
    "norm['i'] = True\n",
    "\n",
    "# tSZ\n",
    "profs['y'] = ccl.halos.HaloProfilePressureGNFW(x_out=6)\n",
    "norm['y'] = False\n",
    "\n",
    "# CIB\n",
    "profs['c'] = ccl.halos.HaloProfileCIBShang12(cm, 217)\n",
    "norm['c'] = False"
   ]
  },
  {
   "cell_type": "markdown",
   "id": "110851ad",
   "metadata": {},
   "source": [
    "Note that we're initializing some of these profiles more than once, which is not efficient (something to bear in mind when putting this in a likelihood)."
   ]
  },
  {
   "cell_type": "markdown",
   "id": "06fc61ac",
   "metadata": {},
   "source": [
    "### 2.3 Profile 2-point cumulants\n",
    "Some of these profiles require custom-made 1-halo 2-point correlators (e.g. accounting for Poisson correlations in the case of HOD). We create a matrix of them here."
   ]
  },
  {
   "cell_type": "code",
   "execution_count": 8,
   "id": "dba2295c",
   "metadata": {},
   "outputs": [],
   "source": [
    "tracer_list = list(profs.keys())\n",
    "profs2pt = {f'{t1}-{t2}': ccl.halos.Profile2pt() for t1 in tracer_list for t2 in tracer_list}\n",
    "profs2pt['g-g'] = ccl.halos.Profile2ptHOD()\n",
    "profs2pt['c-c'] = ccl.halos.Profile2ptCIB()"
   ]
  },
  {
   "cell_type": "markdown",
   "id": "7b7e835f",
   "metadata": {},
   "source": [
    "### 2.4 Construct $P(k)$s\n",
    "Now we put everything together into $P(k)$s for each pair of quantities"
   ]
  },
  {
   "cell_type": "code",
   "execution_count": 9,
   "id": "f965d060",
   "metadata": {},
   "outputs": [],
   "source": [
    "pks = {f'{t1}-{t2}': ccl.halos.halomod_Pk2D(cosmo, hmc,\n",
    "                                            profs[t1],\n",
    "                                            prof_2pt=profs2pt[f'{t1}-{t2}'],\n",
    "                                            prof2=profs[t2],\n",
    "                                            normprof1=norm[t1],\n",
    "                                            normprof2=norm[t2],\n",
    "                                            a_arr=a_arr,\n",
    "                                            lk_arr=lk_arr)\n",
    "       for t1 in tracer_list for t2 in tracer_list}"
   ]
  },
  {
   "cell_type": "markdown",
   "id": "d77c729a",
   "metadata": {},
   "source": [
    "Note that we're actually computing some of these $P(k)$s twice, which is inefficient."
   ]
  },
  {
   "cell_type": "markdown",
   "id": "2145c420",
   "metadata": {},
   "source": [
    "## 3 Project $P(k)$s into $C_\\ell$s\n",
    "Now we use `angular_cl` to generate all of the angular power spectra from the tracers and $P(k)$s."
   ]
  },
  {
   "cell_type": "code",
   "execution_count": 10,
   "id": "e398bb4b",
   "metadata": {},
   "outputs": [
    {
     "ename": "KeyError",
     "evalue": "'i'",
     "output_type": "error",
     "traceback": [
      "\u001b[0;31m---------------------------------------------------------------------------\u001b[0m",
      "\u001b[0;31mKeyError\u001b[0m                                  Traceback (most recent call last)",
      "\u001b[0;32m/var/folders/nb/92bp6wq92qg_000bg2y5tcm00000gn/T/ipykernel_32457/3275773554.py\u001b[0m in \u001b[0;36m<cell line: 2>\u001b[0;34m()\u001b[0m\n\u001b[1;32m      1\u001b[0m \u001b[0mells\u001b[0m \u001b[0;34m=\u001b[0m \u001b[0mnp\u001b[0m\u001b[0;34m.\u001b[0m\u001b[0munique\u001b[0m\u001b[0;34m(\u001b[0m\u001b[0mnp\u001b[0m\u001b[0;34m.\u001b[0m\u001b[0mgeomspace\u001b[0m\u001b[0;34m(\u001b[0m\u001b[0;36m2\u001b[0m\u001b[0;34m,\u001b[0m \u001b[0;36m2000\u001b[0m\u001b[0;34m,\u001b[0m \u001b[0;36m128\u001b[0m\u001b[0;34m)\u001b[0m\u001b[0;34m.\u001b[0m\u001b[0mastype\u001b[0m\u001b[0;34m(\u001b[0m\u001b[0mint\u001b[0m\u001b[0;34m)\u001b[0m\u001b[0;34m)\u001b[0m\u001b[0;34m.\u001b[0m\u001b[0mastype\u001b[0m\u001b[0;34m(\u001b[0m\u001b[0mfloat\u001b[0m\u001b[0;34m)\u001b[0m\u001b[0;34m\u001b[0m\u001b[0;34m\u001b[0m\u001b[0m\n\u001b[0;32m----> 2\u001b[0;31m c_ells = {f'{t1}-{t2}': ccl.angular_cl(cosmo, tracers[t1], tracers[t2], ells, p_of_k_a=pks[f'{t1}-{t2}'])\n\u001b[0m\u001b[1;32m      3\u001b[0m           for t1 in tracer_list for t2 in tracer_list}\n",
      "\u001b[0;32m/var/folders/nb/92bp6wq92qg_000bg2y5tcm00000gn/T/ipykernel_32457/3275773554.py\u001b[0m in \u001b[0;36m<dictcomp>\u001b[0;34m(.0)\u001b[0m\n\u001b[1;32m      1\u001b[0m \u001b[0mells\u001b[0m \u001b[0;34m=\u001b[0m \u001b[0mnp\u001b[0m\u001b[0;34m.\u001b[0m\u001b[0munique\u001b[0m\u001b[0;34m(\u001b[0m\u001b[0mnp\u001b[0m\u001b[0;34m.\u001b[0m\u001b[0mgeomspace\u001b[0m\u001b[0;34m(\u001b[0m\u001b[0;36m2\u001b[0m\u001b[0;34m,\u001b[0m \u001b[0;36m2000\u001b[0m\u001b[0;34m,\u001b[0m \u001b[0;36m128\u001b[0m\u001b[0;34m)\u001b[0m\u001b[0;34m.\u001b[0m\u001b[0mastype\u001b[0m\u001b[0;34m(\u001b[0m\u001b[0mint\u001b[0m\u001b[0;34m)\u001b[0m\u001b[0;34m)\u001b[0m\u001b[0;34m.\u001b[0m\u001b[0mastype\u001b[0m\u001b[0;34m(\u001b[0m\u001b[0mfloat\u001b[0m\u001b[0;34m)\u001b[0m\u001b[0;34m\u001b[0m\u001b[0;34m\u001b[0m\u001b[0m\n\u001b[0;32m----> 2\u001b[0;31m c_ells = {f'{t1}-{t2}': ccl.angular_cl(cosmo, tracers[t1], tracers[t2], ells, p_of_k_a=pks[f'{t1}-{t2}'])\n\u001b[0m\u001b[1;32m      3\u001b[0m           for t1 in tracer_list for t2 in tracer_list}\n",
      "\u001b[0;31mKeyError\u001b[0m: 'i'"
     ]
    }
   ],
   "source": [
    "ells = np.unique(np.geomspace(2, 2000, 128).astype(int)).astype(float)\n",
    "c_ells = {f'{t1}-{t2}': ccl.angular_cl(cosmo, tracers[t1], tracers[t2], ells, p_of_k_a=pks[f'{t1}-{t2}'])\n",
    "          for t1 in tracer_list for t2 in tracer_list}"
   ]
  },
  {
   "cell_type": "markdown",
   "id": "fd837b33",
   "metadata": {},
   "source": [
    "Again, computing things twice for cross-correlations. Just bear it in mind!\n",
    "\n",
    "Let's plot the results:"
   ]
  },
  {
   "cell_type": "code",
   "execution_count": 16,
   "id": "319eebc5",
   "metadata": {},
   "outputs": [
    {
     "ename": "NameError",
     "evalue": "name 's' is not defined",
     "output_type": "error",
     "traceback": [
      "\u001b[0;31m---------------------------------------------------------------------------\u001b[0m",
      "\u001b[0;31mNameError\u001b[0m                                 Traceback (most recent call last)",
      "\u001b[0;32m/var/folders/nb/92bp6wq92qg_000bg2y5tcm00000gn/T/ipykernel_32457/2132348568.py\u001b[0m in \u001b[0;36m<cell line: 1>\u001b[0;34m()\u001b[0m\n\u001b[0;32m----> 1\u001b[0;31m \u001b[0;34mf'{s}-{s}'\u001b[0m\u001b[0;34m\u001b[0m\u001b[0;34m\u001b[0m\u001b[0m\n\u001b[0m",
      "\u001b[0;31mNameError\u001b[0m: name 's' is not defined"
     ]
    }
   ],
   "source": [
    "f'{s}-{s}'"
   ]
  },
  {
   "cell_type": "code",
   "execution_count": 12,
   "id": "830b9e4a",
   "metadata": {},
   "outputs": [
    {
     "name": "stdout",
     "output_type": "stream",
     "text": [
      "s\n",
      "s\n",
      "s\n",
      "s\n",
      "s\n",
      "k\n",
      "k\n",
      "k\n",
      "k\n",
      "k\n",
      "i\n",
      "i\n",
      "i\n",
      "i\n",
      "i\n",
      "y\n",
      "y\n",
      "y\n",
      "y\n",
      "y\n",
      "c\n",
      "c\n",
      "c\n",
      "c\n",
      "c\n"
     ]
    }
   ],
   "source": [
    "for t1 in tracer_list:\n",
    "    for t2 in tracer_list:\n",
    "        print(t1)"
   ]
  },
  {
   "cell_type": "code",
   "execution_count": null,
   "id": "b0612357",
   "metadata": {
    "scrolled": false
   },
   "outputs": [],
   "source": [
    "for i1, t1 in enumerate(tracer_list):\n",
    "    plt.figure(figsize=(8, 4))\n",
    "    for t2 in tracer_list[i1:]:\n",
    "        plt.plot(ells, ells*(ells+1)*c_ells[f'{t1}-{t2}']/(2*np.pi), label=f'{t1}-{t2}')\n",
    "    plt.loglog()\n",
    "    plt.legend(ncol=2)\n",
    "    plt.xlabel(r'$\\ell$', fontsize=14)\n",
    "    plt.ylabel(r'$\\ell(\\ell+1)C_\\ell/2\\pi$', fontsize=14)"
   ]
  },
  {
   "cell_type": "markdown",
   "id": "a9ce3a8b",
   "metadata": {},
   "source": [
    "This just illustrates how to combine all of these quantities using the halo model. CCL supports other ways to parametrize e.g. galaxy bias or intrinsic alignments. Check out the [notebook on perturbation theory biases](https://github.com/LSSTDESC/CCLX/blob/master/PerturbationTheoryPk.ipynb) to learn how to do that."
   ]
  },
  {
   "cell_type": "code",
   "execution_count": null,
   "id": "6e26ac01",
   "metadata": {},
   "outputs": [],
   "source": []
  }
 ],
 "metadata": {
  "kernelspec": {
   "display_name": "Python 3 (ipykernel)",
   "language": "python",
   "name": "python3"
  },
  "language_info": {
   "codemirror_mode": {
    "name": "ipython",
    "version": 3
   },
   "file_extension": ".py",
   "mimetype": "text/x-python",
   "name": "python",
   "nbconvert_exporter": "python",
   "pygments_lexer": "ipython3",
   "version": "3.9.7"
  }
 },
 "nbformat": 4,
 "nbformat_minor": 5
}
